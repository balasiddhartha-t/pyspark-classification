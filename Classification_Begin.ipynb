{
 "cells": [
  {
   "cell_type": "code",
   "execution_count": 1,
   "metadata": {
    "collapsed": true
   },
   "outputs": [],
   "source": [
    "from pyspark.sql import SparkSession\n",
    "from pyspark.ml.classification import LogisticRegression"
   ]
  },
  {
   "cell_type": "code",
   "execution_count": 2,
   "metadata": {
    "collapsed": true
   },
   "outputs": [],
   "source": [
    "spark = SparkSession.builder.appName('Logistic-start').getOrCreate()"
   ]
  },
  {
   "cell_type": "code",
   "execution_count": 3,
   "metadata": {
    "collapsed": true
   },
   "outputs": [],
   "source": [
    "my_data = spark.read.format('libsvm').load('sample_libsvm_data.txt')"
   ]
  },
  {
   "cell_type": "code",
   "execution_count": 4,
   "metadata": {},
   "outputs": [
    {
     "name": "stdout",
     "output_type": "stream",
     "text": [
      "+-----+--------------------+\n",
      "|label|            features|\n",
      "+-----+--------------------+\n",
      "|  0.0|(692,[127,128,129...|\n",
      "|  1.0|(692,[158,159,160...|\n",
      "|  1.0|(692,[124,125,126...|\n",
      "|  1.0|(692,[152,153,154...|\n",
      "|  1.0|(692,[151,152,153...|\n",
      "|  0.0|(692,[129,130,131...|\n",
      "|  1.0|(692,[158,159,160...|\n",
      "|  1.0|(692,[99,100,101,...|\n",
      "|  0.0|(692,[154,155,156...|\n",
      "|  0.0|(692,[127,128,129...|\n",
      "|  1.0|(692,[154,155,156...|\n",
      "|  0.0|(692,[153,154,155...|\n",
      "|  0.0|(692,[151,152,153...|\n",
      "|  1.0|(692,[129,130,131...|\n",
      "|  0.0|(692,[154,155,156...|\n",
      "|  1.0|(692,[150,151,152...|\n",
      "|  0.0|(692,[124,125,126...|\n",
      "|  0.0|(692,[152,153,154...|\n",
      "|  1.0|(692,[97,98,99,12...|\n",
      "|  1.0|(692,[124,125,126...|\n",
      "+-----+--------------------+\n",
      "only showing top 20 rows\n",
      "\n"
     ]
    }
   ],
   "source": [
    "my_data.show()"
   ]
  },
  {
   "cell_type": "code",
   "execution_count": 5,
   "metadata": {
    "collapsed": true
   },
   "outputs": [],
   "source": [
    "my_log_reg_model = LogisticRegression()"
   ]
  },
  {
   "cell_type": "code",
   "execution_count": 6,
   "metadata": {
    "collapsed": true
   },
   "outputs": [],
   "source": [
    "fitted_logreg = my_log_reg_model.fit(my_data)"
   ]
  },
  {
   "cell_type": "code",
   "execution_count": 7,
   "metadata": {
    "collapsed": true
   },
   "outputs": [],
   "source": [
    "log_summary = fitted_logreg.summary"
   ]
  },
  {
   "cell_type": "code",
   "execution_count": 8,
   "metadata": {},
   "outputs": [
    {
     "data": {
      "text/plain": [
       "DataFrame[label: double, features: vector, rawPrediction: vector, probability: vector, prediction: double]"
      ]
     },
     "execution_count": 8,
     "metadata": {},
     "output_type": "execute_result"
    }
   ],
   "source": [
    "log_summary.predictions"
   ]
  },
  {
   "cell_type": "code",
   "execution_count": 10,
   "metadata": {},
   "outputs": [
    {
     "name": "stdout",
     "output_type": "stream",
     "text": [
      "+-----+--------------------+--------------------+--------------------+----------+\n",
      "|label|            features|       rawPrediction|         probability|prediction|\n",
      "+-----+--------------------+--------------------+--------------------+----------+\n",
      "|  0.0|(692,[127,128,129...|[39.9727764450750...|[1.0,4.3655982185...|       0.0|\n",
      "|  1.0|(692,[158,159,160...|[-35.662380562160...|[3.25105944320044...|       1.0|\n",
      "|  1.0|(692,[124,125,126...|[-39.336799621156...|[8.24603148700906...|       1.0|\n",
      "|  1.0|(692,[152,153,154...|[-28.219286248176...|[5.55289803944932...|       1.0|\n",
      "|  1.0|(692,[151,152,153...|[-28.142070329444...|[5.99865861146384...|       1.0|\n",
      "|  0.0|(692,[129,130,131...|[37.8748140555402...|[1.0,3.5577649524...|       0.0|\n",
      "|  1.0|(692,[158,159,160...|[-36.610101257122...|[1.26018713626709...|       1.0|\n",
      "|  1.0|(692,[99,100,101,...|[-29.504314986871...|[1.53616833535573...|       1.0|\n",
      "|  0.0|(692,[154,155,156...|[13.6899025280154...|[0.99999886616363...|       0.0|\n",
      "|  0.0|(692,[127,128,129...|[33.3183003583946...|[0.99999999999999...|       0.0|\n",
      "|  1.0|(692,[154,155,156...|[-38.890745680172...|[1.28814203951267...|       1.0|\n",
      "|  0.0|(692,[153,154,155...|[67.0874697775197...|[1.0,7.3161410668...|       0.0|\n",
      "|  0.0|(692,[151,152,153...|[73.6044717083260...|[1.0,1.0813943437...|       0.0|\n",
      "|  1.0|(692,[129,130,131...|[-36.334297811539...|[1.66040853309745...|       1.0|\n",
      "|  0.0|(692,[154,155,156...|[50.8305653519066...|[1.0,8.4055465116...|       0.0|\n",
      "|  1.0|(692,[150,151,152...|[-37.436601496257...|[5.51430202129915...|       1.0|\n",
      "|  0.0|(692,[124,125,126...|[52.0845325408060...|[1.0,2.3986944209...|       0.0|\n",
      "|  0.0|(692,[152,153,154...|[46.0777337354325...|[1.0,9.7430403263...|       0.0|\n",
      "|  1.0|(692,[97,98,99,12...|[-21.968532477749...|[2.87864141487992...|       1.0|\n",
      "|  1.0|(692,[124,125,126...|[-31.127071144794...|[3.03168980995190...|       1.0|\n",
      "+-----+--------------------+--------------------+--------------------+----------+\n",
      "only showing top 20 rows\n",
      "\n"
     ]
    }
   ],
   "source": [
    "log_summary.predictions.show()"
   ]
  },
  {
   "cell_type": "code",
   "execution_count": 11,
   "metadata": {
    "collapsed": true
   },
   "outputs": [],
   "source": [
    "lr_train, lr_test = my_data.randomSplit([0.7,0.3])"
   ]
  },
  {
   "cell_type": "code",
   "execution_count": 12,
   "metadata": {
    "collapsed": true
   },
   "outputs": [],
   "source": [
    "final_model = LogisticRegression()"
   ]
  },
  {
   "cell_type": "code",
   "execution_count": 14,
   "metadata": {},
   "outputs": [],
   "source": [
    "fit_final = final_model.fit(lr_train)"
   ]
  },
  {
   "cell_type": "code",
   "execution_count": 15,
   "metadata": {
    "collapsed": true
   },
   "outputs": [],
   "source": [
    "prediction_and_labels = fit_final.evaluate(lr_test)"
   ]
  },
  {
   "cell_type": "code",
   "execution_count": 19,
   "metadata": {},
   "outputs": [
    {
     "name": "stdout",
     "output_type": "stream",
     "text": [
      "+-----+--------------------+--------------------+--------------------+----------+\n",
      "|label|            features|       rawPrediction|         probability|prediction|\n",
      "+-----+--------------------+--------------------+--------------------+----------+\n",
      "|  0.0|(692,[123,124,125...|[25.1954997598396...|[0.99999999998857...|       0.0|\n",
      "|  0.0|(692,[124,125,126...|[70.9574775938392...|[1.0,1.5260158035...|       0.0|\n",
      "|  0.0|(692,[124,125,126...|[37.1766900835939...|[1.0,7.1510306795...|       0.0|\n",
      "|  0.0|(692,[124,125,126...|[24.2066319420712...|[0.99999999996929...|       0.0|\n",
      "|  0.0|(692,[125,126,127...|[23.5701713593830...|[0.99999999994197...|       0.0|\n",
      "|  0.0|(692,[126,127,128...|[28.3290568751257...|[0.99999999999950...|       0.0|\n",
      "|  0.0|(692,[127,128,129...|[24.8234481744146...|[0.99999999998343...|       0.0|\n",
      "|  0.0|(692,[127,128,129...|[24.6286816848315...|[0.99999999997986...|       0.0|\n",
      "|  0.0|(692,[129,130,131...|[17.0468031323317...|[0.99999996049360...|       0.0|\n",
      "|  0.0|(692,[150,151,152...|[25.0567245965058...|[0.99999999998687...|       0.0|\n",
      "|  0.0|(692,[153,154,155...|[28.8067987570191...|[0.99999999999969...|       0.0|\n",
      "|  0.0|(692,[153,154,155...|[15.0957070849874...|[0.99999972201741...|       0.0|\n",
      "|  0.0|(692,[154,155,156...|[24.3023852951617...|[0.99999999997209...|       0.0|\n",
      "|  0.0|(692,[155,156,180...|[50.9003629801801...|[1.0,7.8388658247...|       0.0|\n",
      "|  0.0|(692,[181,182,183...|[59.1611974950895...|[1.0,2.0259017756...|       0.0|\n",
      "|  1.0|(692,[97,98,99,12...|[-17.528437732089...|[2.44059774669594...|       1.0|\n",
      "|  1.0|(692,[123,124,125...|[-23.684164988160...|[5.17723450685754...|       1.0|\n",
      "|  1.0|(692,[123,124,125...|[-17.053618994803...|[3.92380446492031...|       1.0|\n",
      "|  1.0|(692,[125,126,153...|[-22.047632084567...|[2.65971465665876...|       1.0|\n",
      "|  1.0|(692,[125,126,153...|[-23.392988905076...|[6.92714061085342...|       1.0|\n",
      "+-----+--------------------+--------------------+--------------------+----------+\n",
      "only showing top 20 rows\n",
      "\n"
     ]
    }
   ],
   "source": [
    "prediction_and_labels.predictions.show()"
   ]
  },
  {
   "cell_type": "code",
   "execution_count": 20,
   "metadata": {
    "collapsed": true
   },
   "outputs": [],
   "source": [
    "prediction_and_labels = prediction_and_labels.predictions.select('label','prediction')"
   ]
  },
  {
   "cell_type": "code",
   "execution_count": 21,
   "metadata": {},
   "outputs": [
    {
     "name": "stdout",
     "output_type": "stream",
     "text": [
      "+-----+----------+\n",
      "|label|prediction|\n",
      "+-----+----------+\n",
      "|  0.0|       0.0|\n",
      "|  0.0|       0.0|\n",
      "|  0.0|       0.0|\n",
      "|  0.0|       0.0|\n",
      "|  0.0|       0.0|\n",
      "|  0.0|       0.0|\n",
      "|  0.0|       0.0|\n",
      "|  0.0|       0.0|\n",
      "|  0.0|       0.0|\n",
      "|  0.0|       0.0|\n",
      "|  0.0|       0.0|\n",
      "|  0.0|       0.0|\n",
      "|  0.0|       0.0|\n",
      "|  0.0|       0.0|\n",
      "|  0.0|       0.0|\n",
      "|  1.0|       1.0|\n",
      "|  1.0|       1.0|\n",
      "|  1.0|       1.0|\n",
      "|  1.0|       1.0|\n",
      "|  1.0|       1.0|\n",
      "+-----+----------+\n",
      "only showing top 20 rows\n",
      "\n"
     ]
    }
   ],
   "source": [
    "prediction_and_labels.show()"
   ]
  },
  {
   "cell_type": "code",
   "execution_count": 24,
   "metadata": {},
   "outputs": [],
   "source": [
    "from pyspark.ml.evaluation import BinaryClassificationEvaluator,MulticlassClassificationEvaluator"
   ]
  },
  {
   "cell_type": "code",
   "execution_count": 26,
   "metadata": {},
   "outputs": [],
   "source": [
    "evaluator = BinaryClassificationEvaluator(rawPredictionCol='prediction',labelCol='label')"
   ]
  },
  {
   "cell_type": "code",
   "execution_count": 27,
   "metadata": {
    "collapsed": true
   },
   "outputs": [],
   "source": [
    "evaluator = MulticlassClassificationEvaluator(predictionCol='prediction',labelCol='label',\n",
    "                                             metricName='accuracy')"
   ]
  },
  {
   "cell_type": "code",
   "execution_count": 29,
   "metadata": {},
   "outputs": [],
   "source": [
    "acc = evaluator.evaluate(prediction_and_labels)"
   ]
  },
  {
   "cell_type": "code",
   "execution_count": 30,
   "metadata": {},
   "outputs": [
    {
     "data": {
      "text/plain": [
       "1.0"
      ]
     },
     "execution_count": 30,
     "metadata": {},
     "output_type": "execute_result"
    }
   ],
   "source": [
    "acc"
   ]
  },
  {
   "cell_type": "code",
   "execution_count": null,
   "metadata": {
    "collapsed": true
   },
   "outputs": [],
   "source": []
  }
 ],
 "metadata": {
  "kernelspec": {
   "display_name": "Python 3",
   "language": "python",
   "name": "python3"
  },
  "language_info": {
   "codemirror_mode": {
    "name": "ipython",
    "version": 3
   },
   "file_extension": ".py",
   "mimetype": "text/x-python",
   "name": "python",
   "nbconvert_exporter": "python",
   "pygments_lexer": "ipython3",
   "version": "3.6.1"
  }
 },
 "nbformat": 4,
 "nbformat_minor": 2
}
